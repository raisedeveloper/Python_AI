{
 "cells": [
  {
   "cell_type": "code",
   "execution_count": 1,
   "metadata": {},
   "outputs": [
    {
     "name": "stderr",
     "output_type": "stream",
     "text": [
      "c:\\Python310\\lib\\site-packages\\tqdm\\auto.py:21: TqdmWarning: IProgress not found. Please update jupyter and ipywidgets. See https://ipywidgets.readthedocs.io/en/stable/user_install.html\n",
      "  from .autonotebook import tqdm as notebook_tqdm\n"
     ]
    },
    {
     "name": "stdout",
     "output_type": "stream",
     "text": [
      "<class 'pandas.core.frame.DataFrame'>\n",
      "RangeIndex: 768 entries, 0 to 767\n",
      "Data columns (total 9 columns):\n",
      " #   Column                    Non-Null Count  Dtype  \n",
      "---  ------                    --------------  -----  \n",
      " 0   Pregnancies               768 non-null    int64  \n",
      " 1   Glucose                   768 non-null    int64  \n",
      " 2   BloodPressure             768 non-null    int64  \n",
      " 3   SkinThickness             768 non-null    int64  \n",
      " 4   Insulin                   768 non-null    int64  \n",
      " 5   BMI                       766 non-null    float64\n",
      " 6   DiabetesPedigreeFunction  768 non-null    float64\n",
      " 7   Age                       768 non-null    int64  \n",
      " 8   Outcome                   768 non-null    int64  \n",
      "dtypes: float64(2), int64(7)\n",
      "memory usage: 54.1 KB\n",
      "None\n"
     ]
    },
    {
     "name": "stderr",
     "output_type": "stream",
     "text": [
      "Summarize dataset: 100%|██████████| 82/82 [00:07<00:00, 11.30it/s, Completed]                                                 \n",
      "Generate report structure: 100%|██████████| 1/1 [00:02<00:00,  2.69s/it]\n",
      "Render HTML: 100%|██████████| 1/1 [00:02<00:00,  2.68s/it]\n",
      "Export report to file: 100%|██████████| 1/1 [00:00<00:00, 49.27it/s]"
     ]
    },
    {
     "name": "stdout",
     "output_type": "stream",
     "text": [
      "프로파일링 보고서가 생성되었습니다: report/diabetes_profiling_report.html\n"
     ]
    },
    {
     "name": "stderr",
     "output_type": "stream",
     "text": [
      "\n"
     ]
    }
   ],
   "source": [
    "# 탐색적 데이터 분석(EDA)\n",
    "# 사전 설치 : pip install ydata-profiling\n",
    "# 사전 폴더 생성 : report\n",
    "# numpy 버전 2.2.3 이상 업그레이드(ydata profiling 호환을 위해 업그레이드) : pip install --upgrade numpy\n",
    "import os\n",
    "import pandas as pd\n",
    "import matplotlib.pyplot as plt\n",
    "from ydata_profiling import ProfileReport\n",
    "\n",
    "\n",
    "# 데이터 불러오기\n",
    "file_path = 'dataset/diabetes.csv'\n",
    "df = pd.read_csv(file_path)\n",
    "\n",
    "# 데이터 정보 출력\n",
    "print(df.info())\n",
    "\n",
    "# YData Profiling으로 데이터 프로파일링 보고서 생성\n",
    "profile = ProfileReport(df, title=\"Diabetes Dataset Profiling Report\", explorative=True)\n",
    "\n",
    "# 보고서를 HTML 파일로 저장\n",
    "output_file = 'report/diabetes_profiling_report.html'\n",
    "profile.to_file(output_file)\n",
    "print(f\"프로파일링 보고서가 생성되었습니다: {output_file}\")"
   ]
  },
  {
   "cell_type": "code",
   "execution_count": null,
   "metadata": {},
   "outputs": [],
   "source": []
  }
 ],
 "metadata": {
  "kernelspec": {
   "display_name": "Python 3",
   "language": "python",
   "name": "python3"
  },
  "language_info": {
   "codemirror_mode": {
    "name": "ipython",
    "version": 3
   },
   "file_extension": ".py",
   "mimetype": "text/x-python",
   "name": "python",
   "nbconvert_exporter": "python",
   "pygments_lexer": "ipython3",
   "version": "3.10.6"
  }
 },
 "nbformat": 4,
 "nbformat_minor": 2
}
