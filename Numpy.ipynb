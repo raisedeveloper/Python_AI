{
 "cells": [
  {
   "cell_type": "code",
   "execution_count": 1,
   "metadata": {},
   "outputs": [
    {
     "name": "stdout",
     "output_type": "stream",
     "text": [
      "[2, 4, 6]\n"
     ]
    }
   ],
   "source": [
    "#list comprehention\n",
    "# Numpy 벡터화 연산과 비교하기 위한 list 예제\n",
    "my_list = [1, 2, 3]\n",
    "new_list = [x * 2 for x in my_list]\n",
    "print(new_list) "
   ]
  },
  {
   "cell_type": "code",
   "execution_count": null,
   "metadata": {},
   "outputs": [],
   "source": []
  },
  {
   "cell_type": "code",
   "execution_count": 3,
   "metadata": {},
   "outputs": [
    {
     "name": "stdout",
     "output_type": "stream",
     "text": [
      "[2 4 6]\n"
     ]
    }
   ],
   "source": [
    "# 벡터화 연산 예시 - list 보다 어떤 차이점, 편리성이 더 있는지 생각하기\n",
    "import numpy as np\n",
    "my_array = np.array([1, 2, 3])\n",
    "new_array = my_array * 2    # 벡터화된 연산\n",
    "print(new_array)"
   ]
  },
  {
   "cell_type": "code",
   "execution_count": 49,
   "metadata": {},
   "outputs": [
    {
     "name": "stdout",
     "output_type": "stream",
     "text": [
      "[0 2 4]\n"
     ]
    }
   ],
   "source": [
    "arr = np.arange(0, 6, 2)   # arange(start, stop, step) [주의!! stop-1]\n",
    "print(arr)"
   ]
  },
  {
   "cell_type": "code",
   "execution_count": 50,
   "metadata": {},
   "outputs": [
    {
     "name": "stdout",
     "output_type": "stream",
     "text": [
      "[[ 0.66973894  0.25609953  0.99057958]\n",
      " [ 1.52608631  0.60344296  0.1120467 ]\n",
      " [-0.01421282  1.81665961 -1.20317725]]\n"
     ]
    }
   ],
   "source": [
    "# rand randn() randint(a, b, size) choice() \n",
    "rr = np.random.randn(3, 3)\n",
    "print(arr)"
   ]
  },
  {
   "cell_type": "code",
   "execution_count": 9,
   "metadata": {},
   "outputs": [
    {
     "name": "stdout",
     "output_type": "stream",
     "text": [
      "[[0.55952854 0.54823224 0.54917339 0.5702846  0.51632867 0.40131912\n",
      "  0.80669088 0.41946238 0.66032695]]\n"
     ]
    }
   ],
   "source": [
    "arr = arr.reshape(1, 9)\n",
    "print(arr)"
   ]
  },
  {
   "cell_type": "code",
   "execution_count": 10,
   "metadata": {},
   "outputs": [
    {
     "name": "stdout",
     "output_type": "stream",
     "text": [
      "6\n"
     ]
    }
   ],
   "source": [
    "npsum = np.sum([1,2,3])\n",
    "print(npsum)"
   ]
  },
  {
   "cell_type": "code",
   "execution_count": 17,
   "metadata": {},
   "outputs": [
    {
     "name": "stdout",
     "output_type": "stream",
     "text": [
      "2.0\n"
     ]
    }
   ],
   "source": [
    "# mean : 평균값\n",
    "arr = np.mean([1,2,3])\n",
    "print(arr)"
   ]
  },
  {
   "cell_type": "code",
   "execution_count": 18,
   "metadata": {},
   "outputs": [
    {
     "name": "stdout",
     "output_type": "stream",
     "text": [
      "2.8284271247461903\n"
     ]
    }
   ],
   "source": [
    "# 교재 표준편차 예제 참조\n",
    "# std : 표준편차   \n",
    "arr = np.std([175,177,179,181,183]) \n",
    "print(arr)  "
   ]
  },
  {
   "cell_type": "code",
   "execution_count": 19,
   "metadata": {},
   "outputs": [
    {
     "name": "stdout",
     "output_type": "stream",
     "text": [
      "[ 1  2  3  4  5  6  7  8  9 10]\n"
     ]
    }
   ],
   "source": [
    "#1부터 10까지의 숫자를 가진 배열 생성\n",
    "import numpy as np\n",
    "data = np.arange(1, 11)\n",
    "print(data)"
   ]
  },
  {
   "cell_type": "code",
   "execution_count": 25,
   "metadata": {},
   "outputs": [
    {
     "name": "stdout",
     "output_type": "stream",
     "text": [
      "합 55\n"
     ]
    }
   ],
   "source": [
    "# 합 계산\n",
    "sum_data = np.sum(data)\n",
    "print(\"합\", sum_data)"
   ]
  },
  {
   "cell_type": "code",
   "execution_count": 22,
   "metadata": {},
   "outputs": [
    {
     "name": "stdout",
     "output_type": "stream",
     "text": [
      "평균 5.5\n"
     ]
    }
   ],
   "source": [
    "# 평균 계산\n",
    "mean_data = np.mean(data)\n",
    "print(\"평균\", mean_data)"
   ]
  },
  {
   "cell_type": "code",
   "execution_count": 24,
   "metadata": {},
   "outputs": [
    {
     "name": "stdout",
     "output_type": "stream",
     "text": [
      "표준편차 2.8722813232690143\n"
     ]
    }
   ],
   "source": [
    "# 표준편차 계산\n",
    "std_data = np.std(data)\n",
    "print(\"표준편차\", std_data)"
   ]
  },
  {
   "cell_type": "code",
   "execution_count": 26,
   "metadata": {},
   "outputs": [
    {
     "name": "stdout",
     "output_type": "stream",
     "text": [
      "전체 요소의 합: 45\n"
     ]
    }
   ],
   "source": [
    "# 2차원 배열 생성\n",
    "data = np.array([[1,2,3],\n",
    "                 [4,5,6],\n",
    "                 [7,8,9]])\n",
    "# 전체 요소의 합\n",
    "sum_all = np.sum(data)\n",
    "print(\"전체 요소의 합:\", sum_all)"
   ]
  },
  {
   "cell_type": "code",
   "execution_count": 27,
   "metadata": {},
   "outputs": [
    {
     "name": "stdout",
     "output_type": "stream",
     "text": [
      "각 행의 합: [ 6 15 24]\n"
     ]
    }
   ],
   "source": [
    "# 각 행의 합\n",
    "row_sum = np.sum(data, axis=1)\n",
    "print(\"각 행의 합:\", row_sum)"
   ]
  },
  {
   "cell_type": "code",
   "execution_count": 28,
   "metadata": {},
   "outputs": [
    {
     "name": "stdout",
     "output_type": "stream",
     "text": [
      "각 열의 합: [12 15 18]\n"
     ]
    }
   ],
   "source": [
    "# 각 열의 합\n",
    "col_sum = np.sum(data, axis=0)\n",
    "print(\"각 열의 합:\", col_sum)"
   ]
  },
  {
   "cell_type": "code",
   "execution_count": 29,
   "metadata": {},
   "outputs": [
    {
     "name": "stdout",
     "output_type": "stream",
     "text": [
      "각 행의 평균: [2. 5. 8.]\n"
     ]
    }
   ],
   "source": [
    "# 전체 요소의 평균\n",
    "mean_all = np.mean(data, axis=1)\n",
    "print(\"각 행의 평균:\", mean_all)"
   ]
  },
  {
   "cell_type": "code",
   "execution_count": 30,
   "metadata": {},
   "outputs": [
    {
     "name": "stdout",
     "output_type": "stream",
     "text": [
      "각 행의 평균: [2. 5. 8.]\n"
     ]
    }
   ],
   "source": [
    "# 각 행의 평균\n",
    "row_mean = np.mean(data, axis=1)\n",
    "print(\"각 행의 평균:\", row_mean)"
   ]
  },
  {
   "cell_type": "code",
   "execution_count": 31,
   "metadata": {},
   "outputs": [
    {
     "name": "stdout",
     "output_type": "stream",
     "text": [
      "각 열의 평균:  [4. 5. 6.]\n"
     ]
    }
   ],
   "source": [
    "# 각 열의 평균\n",
    "col_mean = np.mean(data, axis=0)\n",
    "print(\"각 열의 평균: \", col_mean)"
   ]
  },
  {
   "cell_type": "code",
   "execution_count": 32,
   "metadata": {},
   "outputs": [
    {
     "name": "stdout",
     "output_type": "stream",
     "text": [
      "전체 요소의 표준편차:  2.581988897471611\n"
     ]
    }
   ],
   "source": [
    "# 전체 요소의 표준편차\n",
    "std_all = np.std(data)\n",
    "print(\"전체 요소의 표준편차: \" ,std_all)"
   ]
  },
  {
   "cell_type": "code",
   "execution_count": 33,
   "metadata": {},
   "outputs": [
    {
     "name": "stdout",
     "output_type": "stream",
     "text": [
      "각 행의 표준편차: [0.81649658 0.81649658 0.81649658]\n"
     ]
    }
   ],
   "source": [
    "# 각 행의 표준편차\n",
    "row_std = np.std(data, axis=1)\n",
    "print(\"각 행의 표준편차:\", row_std)"
   ]
  },
  {
   "cell_type": "code",
   "execution_count": 36,
   "metadata": {},
   "outputs": [
    {
     "name": "stdout",
     "output_type": "stream",
     "text": [
      "각 열의 표준편차: [2.44948974 2.44948974 2.44948974]\n"
     ]
    }
   ],
   "source": [
    "# 각 열의 표준편차\n",
    "col_std = np.std(data, axis=0)\n",
    "print(\"각 열의 표준편차:\", col_std)"
   ]
  },
  {
   "cell_type": "code",
   "execution_count": 40,
   "metadata": {},
   "outputs": [
    {
     "name": "stdout",
     "output_type": "stream",
     "text": [
      "(2, 3)\n"
     ]
    }
   ],
   "source": [
    "# 1차원 배열 생성\n",
    "arr1 = np.array([1,2,3,4,5])\n",
    "# 2차원 배열 생성\n",
    "arr2 = np.array([[1,2,3],\n",
    "                [4,5,6]])\n",
    "\n",
    "# 배열의 shape확인\n",
    "print(arr2.shape)"
   ]
  },
  {
   "cell_type": "code",
   "execution_count": 41,
   "metadata": {},
   "outputs": [
    {
     "name": "stdout",
     "output_type": "stream",
     "text": [
      "6\n"
     ]
    }
   ],
   "source": [
    "# 특정 요소에 접근 \n",
    "print(arr2[1,2])    # 두 번째 행, 세 번째 열"
   ]
  },
  {
   "cell_type": "code",
   "execution_count": 42,
   "metadata": {},
   "outputs": [
    {
     "name": "stdout",
     "output_type": "stream",
     "text": [
      "[2 5]\n"
     ]
    }
   ],
   "source": [
    "# 슬라이싱\n",
    "print(arr2[:, 1])   # 모든 행의 두 번째 열"
   ]
  },
  {
   "cell_type": "code",
   "execution_count": 1,
   "metadata": {},
   "outputs": [
    {
     "ename": "NameError",
     "evalue": "name 'arr2' is not defined",
     "output_type": "error",
     "traceback": [
      "\u001b[1;31m---------------------------------------------------------------------------\u001b[0m",
      "\u001b[1;31mNameError\u001b[0m                                 Traceback (most recent call last)",
      "Cell \u001b[1;32mIn[1], line 2\u001b[0m\n\u001b[0;32m      1\u001b[0m \u001b[38;5;66;03m# 특정 요소에 접근\u001b[39;00m\n\u001b[1;32m----> 2\u001b[0m \u001b[38;5;28mprint\u001b[39m(\u001b[43marr2\u001b[49m[\u001b[38;5;241m0\u001b[39m][\u001b[38;5;241m1\u001b[39m])    \u001b[38;5;66;03m# 첫 번째 행의 두 번쨰 요소(특정 위치의 값을 가져올 때)\u001b[39;00m\n",
      "\u001b[1;31mNameError\u001b[0m: name 'arr2' is not defined"
     ]
    }
   ],
   "source": [
    "# 특정 요소에 접근\n",
    "print(arr2[0][1])    # 첫 번째 행의 두 번쨰 요소(특정 위치의 값을 가져올 때)"
   ]
  }
 ],
 "metadata": {
  "kernelspec": {
   "display_name": "Python 3",
   "language": "python",
   "name": "python3"
  },
  "language_info": {
   "codemirror_mode": {
    "name": "ipython",
    "version": 3
   },
   "file_extension": ".py",
   "mimetype": "text/x-python",
   "name": "python",
   "nbconvert_exporter": "python",
   "pygments_lexer": "ipython3",
   "version": "3.10.6"
  }
 },
 "nbformat": 4,
 "nbformat_minor": 2
}
